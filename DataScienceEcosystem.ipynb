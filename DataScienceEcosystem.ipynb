{
 "cells": [
  {
   "cell_type": "markdown",
   "id": "4ffc5699-d270-48bf-a910-1183a0b20a6a",
   "metadata": {},
   "source": [
    "# Data Science Tools and Ecosystem"
   ]
  },
  {
   "cell_type": "markdown",
   "id": "d29d15d5-001b-4d77-979f-a0435499781b",
   "metadata": {},
   "source": [
    "**Objectives**\n",
    "\n",
    "- Define what a Jupyter notebook is.\n",
    "- Explain the use of JupyterLab.\n",
    "- Describe how to use notebooks in JupyterLab."
   ]
  },
  {
   "cell_type": "markdown",
   "id": "10a068c6-cc88-4445-bcee-ed6d24ce77c3",
   "metadata": {},
   "source": [
    "In this notebook, Data Science Tools and Ecosystem are summarized."
   ]
  },
  {
   "cell_type": "markdown",
   "id": "e3a4accf-4f77-4aba-8e9a-1ed78dc38f64",
   "metadata": {},
   "source": [
    "Some of the popular languages that Data Scientists use are:\n",
    "1. Python\n",
    "2. R\n",
    "3. SQL"
   ]
  },
  {
   "cell_type": "markdown",
   "id": "4c41b849-6137-4072-9783-d90fe91bd6e0",
   "metadata": {},
   "source": [
    "Some of the commonly used libraries used by Data Scientists include:\n",
    "1. Pandas\n",
    "2. Matplotlib\n",
    "3. Numpy"
   ]
  },
  {
   "cell_type": "markdown",
   "id": "804616c1-3596-4219-8b67-125ea8ccc84a",
   "metadata": {},
   "source": [
    "| Data Science Tools |\n",
    "| --------------- |\n",
    "| RStudio  |\n",
    "| GitHub      |\n",
    "| Jupyter Notebook          |\n"
   ]
  },
  {
   "cell_type": "markdown",
   "id": "d50f54b8-a3b3-4271-9a94-11182e1521dd",
   "metadata": {
    "tags": []
   },
   "source": [
    "### Below are a few examples of evaluating arithmetic expressions in Python.\n",
    "\n",
    "# Addition operation\n",
    "5+5\n",
    "\n",
    "# Multiplication operation\n",
    "6*4"
   ]
  },
  {
   "cell_type": "code",
   "execution_count": 3,
   "id": "ddc4e497-fdcb-43c9-95d6-d8f0ade0d2d6",
   "metadata": {
    "tags": []
   },
   "outputs": [
    {
     "data": {
      "text/plain": [
       "17"
      ]
     },
     "execution_count": 3,
     "metadata": {},
     "output_type": "execute_result"
    }
   ],
   "source": [
    "# Insert a comment line before the expression to explain the operation e.g. This a simple arithmetic expression to mutiply then add integers.\n",
    "\n",
    "(3*4)+5"
   ]
  },
  {
   "cell_type": "code",
   "execution_count": 8,
   "id": "4f38316d-d8d6-4b74-9830-8f8175ea87ec",
   "metadata": {
    "tags": []
   },
   "outputs": [
    {
     "data": {
      "text/plain": [
       "3.3333333333333335"
      ]
     },
     "execution_count": 8,
     "metadata": {},
     "output_type": "execute_result"
    }
   ],
   "source": [
    "# This will convert 200 minutes to hours by diving by 60.\n",
    "200 / 60"
   ]
  },
  {
   "cell_type": "code",
   "execution_count": null,
   "id": "7a258156-fed8-44e6-afbb-fc5d2ec2b038",
   "metadata": {},
   "outputs": [],
   "source": []
  },
  {
   "cell_type": "markdown",
   "id": "5cc7d2c5-b516-47bf-b6a1-ff41c5902410",
   "metadata": {},
   "source": [
    "## Autor\n",
    "\n",
    "Daniel Puente"
   ]
  },
  {
   "cell_type": "code",
   "execution_count": null,
   "id": "7f0bf183-0aba-4246-9eef-23e146189df3",
   "metadata": {},
   "outputs": [],
   "source": []
  }
 ],
 "metadata": {
  "kernelspec": {
   "display_name": "Python",
   "language": "python",
   "name": "conda-env-python-py"
  },
  "language_info": {
   "codemirror_mode": {
    "name": "ipython",
    "version": 3
   },
   "file_extension": ".py",
   "mimetype": "text/x-python",
   "name": "python",
   "nbconvert_exporter": "python",
   "pygments_lexer": "ipython3",
   "version": "3.7.12"
  }
 },
 "nbformat": 4,
 "nbformat_minor": 5
}
